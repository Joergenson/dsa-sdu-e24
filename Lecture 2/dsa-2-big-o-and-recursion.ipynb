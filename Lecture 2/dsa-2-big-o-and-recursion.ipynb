{
 "cells": [
  {
   "cell_type": "markdown",
   "metadata": {
    "slideshow": {
     "slide_type": "slide"
    }
   },
   "source": [
    "<center><img src=\"img/dsa-logo.JPG\" width=\"400\"/>\n",
    "\n",
    "***\n",
    "\n",
    "<center>Lecture 2</center>\n",
    "\n",
    "***\n",
    "\n",
    "<center>Big-O Notation<br> + <br>Recursion</center>  \n",
    "\n",
    "***\n",
    "\n",
    "<center>13 September 2024<center>\n",
    "<center>Rahman Peimankar<center>"
   ]
  },
  {
   "cell_type": "markdown",
   "metadata": {
    "slideshow": {
     "slide_type": "slide"
    }
   },
   "source": [
    "# Agenda"
   ]
  },
  {
   "cell_type": "markdown",
   "metadata": {
    "slideshow": {
     "slide_type": "-"
    }
   },
   "source": [
    "1. Big-O notation\n",
    "2. Recursion\n",
    "3. Exercices"
   ]
  },
  {
   "cell_type": "markdown",
   "metadata": {
    "slideshow": {
     "slide_type": "slide"
    }
   },
   "source": [
    "# Recap of Last Week"
   ]
  },
  {
   "cell_type": "markdown",
   "metadata": {
    "slideshow": {
     "slide_type": "slide"
    }
   },
   "source": [
    "### Basic Python Programming Elements"
   ]
  },
  {
   "cell_type": "markdown",
   "metadata": {
    "slideshow": {
     "slide_type": "-"
    }
   },
   "source": [
    "* Python is an **interpreted** language.\n",
    "* Many **integrated development environments (IDEs)** provide rich software development platforms for Python.\n",
    "* Python is an object-oriented language and classes form the basis for all data types.\n",
    "* Here we introduce Python’s built-in classes such as ... (**can you name some of them?**)"
   ]
  },
  {
   "cell_type": "markdown",
   "metadata": {
    "slideshow": {
     "slide_type": "slide"
    }
   },
   "source": [
    "There are 33 specially reserved words that cannot be used as identifier:\n",
    "\n",
    "<center>\n",
    "<img src=\"img/Qimage-2-lec1.JPG\" width=\"1200\"/>"
   ]
  },
  {
   "cell_type": "markdown",
   "metadata": {
    "slideshow": {
     "slide_type": "slide"
    }
   },
   "source": [
    "### Python’s Built-In Classes"
   ]
  },
  {
   "cell_type": "markdown",
   "metadata": {
    "slideshow": {
     "slide_type": "-"
    }
   },
   "source": [
    "<center>\n",
    "<img src=\"img/Qimage-3-lec1.JPG\" width=\"1200\"/>"
   ]
  },
  {
   "cell_type": "markdown",
   "metadata": {
    "slideshow": {
     "slide_type": "slide"
    }
   },
   "source": [
    "### Object-Oriented Programming"
   ]
  },
  {
   "cell_type": "markdown",
   "metadata": {
    "slideshow": {
     "slide_type": "-"
    }
   },
   "source": [
    "<center>\n",
    "<img src=\"img/Qimage-20-lec1.JPG\" width=\"800\"/>"
   ]
  },
  {
   "cell_type": "markdown",
   "metadata": {
    "slideshow": {
     "slide_type": "slide"
    }
   },
   "source": [
    "<center>\n",
    "<img src=\"img/Qimage-21-lec1.JPG\" width=\"900\"/>"
   ]
  },
  {
   "cell_type": "markdown",
   "metadata": {
    "slideshow": {
     "slide_type": "slide"
    }
   },
   "source": [
    "### An Example of a Class Diagram "
   ]
  },
  {
   "cell_type": "code",
   "execution_count": 5,
   "metadata": {
    "slideshow": {
     "slide_type": "-"
    }
   },
   "outputs": [
    {
     "ename": "SyntaxError",
     "evalue": "invalid syntax (3303246099.py, line 1)",
     "output_type": "error",
     "traceback": [
      "\u001b[1;36m  Cell \u001b[1;32mIn[5], line 1\u001b[1;36m\u001b[0m\n\u001b[1;33m    +---------------------+      +------------------------+      +--------------------------+\u001b[0m\n\u001b[1;37m                                                                                             ^\u001b[0m\n\u001b[1;31mSyntaxError\u001b[0m\u001b[1;31m:\u001b[0m invalid syntax\n"
     ]
    }
   ],
   "source": [
    "+---------------------+      +------------------------+      +--------------------------+\n",
    "|      Hospital       |      |     Department         |      |       Doctor             |\n",
    "+---------------------+------|------------------------+------|--------------------------+\n",
    "| - name: str         |      | - name: str            |      | - name: str              |\n",
    "| - address: str      |      | - doctors: List[Doctor]|      | - specialization: str    |\n",
    "| - departments:      |      | - nurses: List[Nurse]  |      | - department: Department |\n",
    "|   List[Department]  |      |                        |      | - patients: List[Patient]|\n",
    "+---------------------+      +------------------------+      +--------------------------+\n",
    "| + add_department()  |      | + add_doctor()         |      | + schedule_appointment() |\n",
    "| + get_department( ) |      | + add_nurse()          |      | + add_patient()          |\n",
    "| + list_departments()|      | + get_doctor()         |      | + list_patients()        |\n",
    "+---------------------+      | + get_nurse()          |      +--------------------------+\n",
    "                             | + list_doctors()       | \n",
    "                             | + list_nurses()        |\n",
    "                             +------------------------+\n",
    "\n",
    "+---------------------+      +-------------------------+      +-------------------+\n",
    "|       Nurse         |      |      Patient            |      |   MedicalRecord   |\n",
    "+---------------------+      +-------------------------+------|-------------------+\n",
    "| - name: str         |      | - name: str             |      | - record_id: int  |\n",
    "| - department:       |      | - age: int              |      | - patient: Patient|\n",
    "|   Department        |      | - medical_records:      |      | - doctor: Doctor  |\n",
    "| - assigned_patients:|      |   List[MedicalRecord]   |      | - diagnosis: str  |\n",
    "|   List[Patient]     |      +-------------------------+      | - treatment: str  |\n",
    "+---------------------+      | + add_medical_record()  |      | - date: str       |\n",
    "| + assign_patient()  |      | + get_medical_records() |      +-------------------+\n",
    "| + list_assigned_    |      | + schedule_appointment()|      | + update_record() |\n",
    "|   patients()        |      +-------------------------+      +-------------------+\n",
    "+---------------------+\n",
    "\n",
    "+---------------------+\n",
    "|    Appointment      |\n",
    "+---------------------+\n",
    "| - patient: Patient  |\n",
    "| - doctor: Doctor    |\n",
    "| - date: str         |\n",
    "| - status: str       |\n",
    "+---------------------+\n",
    "| + reschedule()      |\n",
    "| + cancel()          |\n",
    "| + mark_completed()  |\n",
    "+---------------------+\n"
   ]
  },
  {
   "cell_type": "markdown",
   "metadata": {
    "slideshow": {
     "slide_type": "slide"
    }
   },
   "source": [
    "<center>\n",
    "    \n",
    "# 1. Big-O Notation"
   ]
  },
  {
   "cell_type": "markdown",
   "metadata": {
    "slideshow": {
     "slide_type": "-"
    }
   },
   "source": [
    "* We would like to focus on the relationship between the running time of an algorithm and the size of its input.\n",
    "* In fact, we are interested in characterizing an algorithm’s running time as a function of the input size."
   ]
  },
  {
   "cell_type": "markdown",
   "metadata": {
    "slideshow": {
     "slide_type": "fragment"
    }
   },
   "source": [
    "**But what is the proper way of measuring it?**"
   ]
  },
  {
   "cell_type": "markdown",
   "metadata": {
    "slideshow": {
     "slide_type": "slide"
    }
   },
   "source": [
    "### Comparing Growth Rates"
   ]
  },
  {
   "cell_type": "markdown",
   "metadata": {
    "slideshow": {
     "slide_type": "-"
    }
   },
   "source": [
    "* Seven most commonly used functions for algorithm analysis.\n",
    "\n",
    "<center>\n",
    "<img src=\"img/Qimage-1.JPG\" width=\"1100\"/>"
   ]
  },
  {
   "cell_type": "markdown",
   "metadata": {
    "slideshow": {
     "slide_type": "fragment"
    }
   },
   "source": [
    "**Ideally**\n",
    "\n",
    "1. We would like data structure operations to run in times proportional to the *constant* or *logarithm* function.\n",
    "2. we would like our algorithms to run in *linear* or *n-log-n* time."
   ]
  },
  {
   "cell_type": "markdown",
   "metadata": {
    "slideshow": {
     "slide_type": "fragment"
    }
   },
   "source": [
    "**Note:** Algorithms with quadratic or cubic running times are less practical, and algorithms with exponential running times are infeasible for all but the smallest sized inputs."
   ]
  },
  {
   "cell_type": "markdown",
   "metadata": {
    "slideshow": {
     "slide_type": "slide"
    }
   },
   "source": [
    "Growth rates for the seven fundamental functions used in algorithm analysis.\n",
    "\n",
    "<center>\n",
    "<img src=\"img/Qimage-2.JPG\" width=\"1100\"/>"
   ]
  },
  {
   "cell_type": "markdown",
   "metadata": {
    "slideshow": {
     "slide_type": "slide"
    }
   },
   "source": [
    "### Example"
   ]
  },
  {
   "cell_type": "code",
   "execution_count": 2,
   "metadata": {
    "slideshow": {
     "slide_type": "-"
    }
   },
   "outputs": [],
   "source": [
    "def find_max(data):\n",
    "    \"\"\"Return the maximum element from a nonempty Python list.\"\"\"\n",
    "    biggest = data[0]        # The initial value to beat\n",
    "    for val in data:         # For each value:\n",
    "        if val > biggest:     # if it is greater than the best so far,\n",
    "            biggest = val    # we have found a new best (so far)\n",
    "    return biggest           # When loop ends, biggest is the max"
   ]
  },
  {
   "cell_type": "markdown",
   "metadata": {
    "slideshow": {
     "slide_type": "fragment"
    }
   },
   "source": [
    "* This is a classic example of an algorithm with a running time that grows proportional to n."
   ]
  },
  {
   "cell_type": "markdown",
   "metadata": {
    "slideshow": {
     "slide_type": "fragment"
    }
   },
   "source": [
    "* In the following section, we provide a framework to formalize this claim."
   ]
  },
  {
   "cell_type": "markdown",
   "metadata": {
    "slideshow": {
     "slide_type": "slide"
    }
   },
   "source": [
    "### Examples of Algorithm Analysis\n",
    "\n",
    "**Example 1:**"
   ]
  },
  {
   "cell_type": "code",
   "execution_count": 3,
   "metadata": {
    "slideshow": {
     "slide_type": "-"
    }
   },
   "outputs": [
    {
     "name": "stdout",
     "output_type": "stream",
     "text": [
      "16\n"
     ]
    }
   ],
   "source": [
    "def constant_algo(items):\n",
    "    result = items[0] * items[0]\n",
    "    print(result)\n",
    "\n",
    "constant_algo([4, 5, 6, 8, 10, 12])"
   ]
  },
  {
   "cell_type": "markdown",
   "metadata": {
    "slideshow": {
     "slide_type": "fragment"
    }
   },
   "source": [
    "In the above script, *irrespective of the input size*, or the number of ``items`` in the input list items, the algorithm performs only 2 steps:\n",
    "\n",
    "1. Finding the square of the first element\n",
    "2. Printing the result on the screen"
   ]
  },
  {
   "cell_type": "code",
   "execution_count": 6,
   "metadata": {
    "slideshow": {
     "slide_type": "slide"
    }
   },
   "outputs": [
    {
     "data": {
      "image/png": "[encoded data removed]",
      "text/plain": [
       "<Figure size 640x480 with 1 Axes>"
      ]
     },
     "metadata": {},
     "output_type": "display_data"
    }
   ],
   "source": [
    "import matplotlib.pyplot as plt\n",
    "import numpy as np\n",
    "\n",
    "x = [4, 5, 6, 8, 10, 12]\n",
    "\n",
    "y = [16, 16, 16, 16, 16, 16]\n",
    "\n",
    "plt.plot(x, y, 'b')\n",
    "plt.xlabel('Inputs', fontdict={'fontsize':20})\n",
    "plt.ylabel('Steps', fontdict={'fontsize':20})\n",
    "plt.xticks(fontsize=20)\n",
    "plt.yticks(fontsize=18)\n",
    "plt.show()"
   ]
  },
  {
   "cell_type": "markdown",
   "metadata": {
    "slideshow": {
     "slide_type": "slide"
    }
   },
   "source": [
    "**Example 2:**"
   ]
  },
  {
   "cell_type": "code",
   "execution_count": 7,
   "metadata": {
    "slideshow": {
     "slide_type": "-"
    }
   },
   "outputs": [
    {
     "name": "stdout",
     "output_type": "stream",
     "text": [
      "2\n",
      "4\n",
      "6\n",
      "8\n",
      "10\n",
      "12\n"
     ]
    }
   ],
   "source": [
    "def linear_algo(items):\n",
    "    for item in items:\n",
    "        print(item)\n",
    "linear_algo([2, 4, 6, 8, 10, 12])\n"
   ]
  },
  {
   "cell_type": "code",
   "execution_count": 8,
   "metadata": {
    "slideshow": {
     "slide_type": "fragment"
    }
   },
   "outputs": [
    {
     "data": {
      "image/png": "[encoded data removed]",
      "text/plain": [
       "<Figure size 640x480 with 1 Axes>"
      ]
     },
     "metadata": {},
     "output_type": "display_data"
    }
   ],
   "source": [
    "import matplotlib.pyplot as plt\n",
    "import numpy as np\n",
    "x = [2, 4, 6, 8, 10, 12]\n",
    "y = [2, 4, 6, 8, 10, 12]\n",
    "plt.plot(x, y, 'b')\n",
    "plt.xlabel('Inputs', fontdict={'fontsize':20})\n",
    "plt.ylabel('Steps', fontdict={'fontsize':20})\n",
    "plt.xticks(fontsize=20)\n",
    "plt.yticks(fontsize=18)\n",
    "plt.show()"
   ]
  },
  {
   "cell_type": "markdown",
   "metadata": {
    "slideshow": {
     "slide_type": "slide"
    }
   },
   "source": [
    "**Example 3:**"
   ]
  },
  {
   "cell_type": "code",
   "execution_count": 9,
   "metadata": {
    "slideshow": {
     "slide_type": "-"
    }
   },
   "outputs": [
    {
     "name": "stdout",
     "output_type": "stream",
     "text": [
      "4   4\n",
      "4   4\n",
      "4   4\n",
      "4   4\n",
      "5   5\n",
      "5   5\n",
      "5   5\n",
      "5   5\n",
      "6   6\n",
      "6   6\n",
      "6   6\n",
      "6   6\n",
      "8   8\n",
      "8   8\n",
      "8   8\n",
      "8   8\n"
     ]
    }
   ],
   "source": [
    "def quadratic_algo(items):\n",
    "    for item in items:\n",
    "        for item2 in items:\n",
    "            print(item, ' ' ,item)\n",
    "quadratic_algo([4, 5, 6, 8])"
   ]
  },
  {
   "cell_type": "markdown",
   "metadata": {
    "slideshow": {
     "slide_type": "fragment"
    }
   },
   "source": [
    "In the script above:\n",
    "\n",
    "1. We have an outer loop that iterates through all the items in the input list\n",
    "2. Then a nested inner loop, which again iterates through all the items in the input list. \n",
    "3. The total number of steps performed is n * n, where n is the number of items in the input array."
   ]
  },
  {
   "cell_type": "markdown",
   "metadata": {
    "slideshow": {
     "slide_type": "slide"
    }
   },
   "source": [
    "**Quiz 1**\n",
    "\n",
    "What is the time complexity of the function below?\n",
    "\n",
    "Please write your answer here: https://PollEv.com/free_text_polls/NRTG1xKa1mac51cVZwnvV/respond"
   ]
  },
  {
   "cell_type": "code",
   "execution_count": 6,
   "metadata": {
    "slideshow": {
     "slide_type": "-"
    }
   },
   "outputs": [
    {
     "name": "stdout",
     "output_type": "stream",
     "text": [
      "Python is awesome\n",
      "Python is awesome\n",
      "Python is awesome\n",
      "Python is awesome\n",
      "Python is awesome\n",
      "4\n",
      "5\n",
      "6\n",
      "8\n",
      "4\n",
      "5\n",
      "6\n",
      "8\n",
      "Big O\n",
      "Big O\n",
      "Big O\n"
     ]
    }
   ],
   "source": [
    "def complex_algo(items):\n",
    "\n",
    "    for i in range(5):\n",
    "        print (\"Python is awesome\")\n",
    "\n",
    "    for item in items:\n",
    "        print(item)\n",
    "\n",
    "    for item in items:\n",
    "        print(item)\n",
    "\n",
    "    print(\"Big O\")\n",
    "    print(\"Big O\")\n",
    "    print(\"Big O\")\n",
    "\n",
    "complex_algo([4, 5, 6, 8])\n"
   ]
  },
  {
   "cell_type": "markdown",
   "metadata": {},
   "source": [
    "### Answer\n",
    "In big O we drop constants\n",
    "\n",
    "First for loop is constant so it doesn't count\n",
    "\n",
    "Second and third is based on the elements so O(n)\n",
    "\n",
    "So it has a linear growth rate"
   ]
  },
  {
   "cell_type": "markdown",
   "metadata": {
    "slideshow": {
     "slide_type": "slide"
    }
   },
   "source": [
    "### Worst vs Best Case Complexity\n",
    "\n",
    "* Usually, when someone asks you about the complexity of the algorithm s/he is asking you about the worst case complexity."
   ]
  },
  {
   "cell_type": "code",
   "execution_count": 10,
   "metadata": {
    "slideshow": {
     "slide_type": "fragment"
    }
   },
   "outputs": [
    {
     "name": "stdout",
     "output_type": "stream",
     "text": [
      "True\n"
     ]
    }
   ],
   "source": [
    "def search_algo(num, items):\n",
    "    for item in items:\n",
    "        if item == num:\n",
    "            return True\n",
    "        else:\n",
    "            return False\n",
    "nums = [2, 4, 6, 8, 10]\n",
    "\n",
    "print(search_algo(2, nums))"
   ]
  },
  {
   "cell_type": "markdown",
   "metadata": {
    "slideshow": {
     "slide_type": "fragment"
    }
   },
   "source": [
    "**Question:** What are the *best* and *worst* case complexity for the function above?"
   ]
  },
  {
   "cell_type": "markdown",
   "metadata": {},
   "source": [
    "best If num is the first element then its O(1)\n",
    "\n",
    "good If num is the last or num is not in the list it needs to iterate through the whole list making it O(n)"
   ]
  },
  {
   "cell_type": "markdown",
   "metadata": {
    "slideshow": {
     "slide_type": "slide"
    }
   },
   "source": [
    "### Space Complexity\n",
    "\n",
    "* In addition to the time complexity, where you count the number of steps required to complete the execution of an algorithm, you can also find space complexity.\n",
    "* It refers to the number of spaces you need to allocate in the memory space during the execution of a program."
   ]
  },
  {
   "cell_type": "code",
   "execution_count": 11,
   "metadata": {
    "slideshow": {
     "slide_type": "fragment"
    }
   },
   "outputs": [
    {
     "name": "stdout",
     "output_type": "stream",
     "text": [
      "[4, 16, 36, 64, 100]\n"
     ]
    }
   ],
   "source": [
    "def return_squares(n):\n",
    "    square_list = []\n",
    "    for num in n:\n",
    "        square_list.append(num * num)\n",
    "\n",
    "    return square_list\n",
    "\n",
    "nums = [2, 4, 6, 8, 10]\n",
    "print(return_squares(nums))"
   ]
  },
  {
   "cell_type": "markdown",
   "metadata": {
    "slideshow": {
     "slide_type": "fragment"
    }
   },
   "source": [
    "**Question:** What is the *space* complexity for the function above?"
   ]
  },
  {
   "cell_type": "markdown",
   "metadata": {},
   "source": [
    "Its linear O(n) because it allocates once per element"
   ]
  },
  {
   "cell_type": "markdown",
   "metadata": {
    "slideshow": {
     "slide_type": "slide"
    }
   },
   "source": [
    "**Quiz 2**\n",
    "\n",
    "Which of the following best describes the useful criterion for comparing the efficiency of algorithms?\n",
    "\n",
    "1) Time\n",
    "\n",
    "2) Memory\n",
    "\n",
    "3) Both of the above \n",
    "\n",
    "4) None of the above\n",
    "\n",
    "Please answer here: https://PollEv.com/multiple_choice_polls/LqsyeMwXQiRZ7z0Y9m8gx/respond"
   ]
  },
  {
   "cell_type": "markdown",
   "metadata": {},
   "source": [
    "3 because both are limiting factor"
   ]
  },
  {
   "cell_type": "markdown",
   "metadata": {
    "slideshow": {
     "slide_type": "slide"
    }
   },
   "source": [
    "<center>\n",
    "    \n",
    "# 2. Recursion"
   ]
  },
  {
   "cell_type": "markdown",
   "metadata": {
    "slideshow": {
     "slide_type": "-"
    }
   },
   "source": [
    "The Factorial Function:\n",
    "\n",
    "<center>\n",
    "<img src=\"img/Qimage-4.JPG\" width=\"700\"/>"
   ]
  },
  {
   "cell_type": "markdown",
   "metadata": {
    "slideshow": {
     "slide_type": "fragment"
    }
   },
   "source": [
    "The factorial function is important because it is known to equal the number of ways in which n distinct items can be arranged\n",
    "into a sequence (i.e. the number of **_permutations_** of *n* items)."
   ]
  },
  {
   "cell_type": "markdown",
   "metadata": {
    "slideshow": {
     "slide_type": "fragment"
    }
   },
   "source": [
    "Natural recursive definition for the factorial function:\n",
    "<center>\n",
    "<img src=\"img/Qimage-5.JPG\" width=\"700\"/>"
   ]
  },
  {
   "cell_type": "code",
   "execution_count": 12,
   "metadata": {
    "slideshow": {
     "slide_type": "slide"
    }
   },
   "outputs": [
    {
     "data": {
      "text/plain": [
       "24"
      ]
     },
     "execution_count": 12,
     "metadata": {},
     "output_type": "execute_result"
    }
   ],
   "source": [
    "def factorial(n):\n",
    "    if n == 0:\n",
    "        return 1\n",
    "    else:\n",
    "        return n * factorial(n-1)\n",
    "    \n",
    "factorial(4)"
   ]
  },
  {
   "cell_type": "markdown",
   "metadata": {
    "slideshow": {
     "slide_type": "fragment"
    }
   },
   "source": [
    "* This function does not use any explicit loops.\n",
    "* Repetition is provided by the repeated recursive invocations of the function.\n",
    "* We illustrate the execution of a recursive function using a **_recursion trace_**."
   ]
  },
  {
   "cell_type": "markdown",
   "metadata": {
    "slideshow": {
     "slide_type": "fragment"
    }
   },
   "source": [
    "<center>\n",
    "<img src=\"img/Qimage-6.JPG\" width=\"600\"/>"
   ]
  },
  {
   "cell_type": "markdown",
   "metadata": {
    "slideshow": {
     "slide_type": "slide"
    }
   },
   "source": [
    "**Quiz 3**\n",
    "\n",
    "What will be the output of the following Python code? And why?\n",
    "\n",
    "1) 13\n",
    "\n",
    "2) 7\n",
    "\n",
    "3) Infinite loop\n",
    "\n",
    "4) 17\n",
    "\n",
    "Please answer here: https://PollEv.com/multiple_choice_polls/LZc7uh9deG66jzVtaK2Jt/respond"
   ]
  },
  {
   "cell_type": "code",
   "execution_count": 13,
   "metadata": {
    "slideshow": {
     "slide_type": "-"
    }
   },
   "outputs": [
    {
     "name": "stdout",
     "output_type": "stream",
     "text": [
      "17\n"
     ]
    }
   ],
   "source": [
    "def test(i,j):\n",
    "    if(i==0):\n",
    "        return j\n",
    "    else:\n",
    "        return test(i-1,i+j)\n",
    "print(test(4,7))"
   ]
  },
  {
   "cell_type": "markdown",
   "metadata": {
    "slideshow": {
     "slide_type": "slide"
    }
   },
   "source": [
    "### Fibonacci Numbers"
   ]
  },
  {
   "cell_type": "markdown",
   "metadata": {
    "slideshow": {
     "slide_type": "-"
    }
   },
   "source": [
    "The Fibonacci series begins as: 0,1,1,2,3,5,8,13,...."
   ]
  },
  {
   "cell_type": "markdown",
   "metadata": {
    "slideshow": {
     "slide_type": "fragment"
    }
   },
   "source": [
    "### An Inefficient Recursion for Computing Fibonacci Numbers"
   ]
  },
  {
   "cell_type": "markdown",
   "metadata": {
    "slideshow": {
     "slide_type": "-"
    }
   },
   "source": [
    "The Fibonacci numbers can also be defined recursively as follows:\n",
    "\n",
    "<center>\n",
    "<img src=\"img/Qimage-10.JPG\" width=\"600\"/>"
   ]
  },
  {
   "cell_type": "code",
   "execution_count": 14,
   "metadata": {
    "slideshow": {
     "slide_type": "fragment"
    }
   },
   "outputs": [],
   "source": [
    "def bad_fibonacci(n):\n",
    "    \"\"\"Return the nth Fibonacci number.\"\"\"\n",
    "    if n <= 1:\n",
    "        return n\n",
    "    else:\n",
    "        return bad_fibonacci(n-2) + bad_fibonacci(n-1)"
   ]
  },
  {
   "cell_type": "markdown",
   "metadata": {
    "slideshow": {
     "slide_type": "fragment"
    }
   },
   "source": [
    "* Terribly inefficient function.\n",
    "* Computing the *n<sup>th</sup>* Fibonacci number in this way requires an exponential number of calls to the function."
   ]
  },
  {
   "cell_type": "markdown",
   "metadata": {
    "slideshow": {
     "slide_type": "slide"
    }
   },
   "source": [
    "<center>\n",
    "<img src=\"img/Qimage-11.JPG\" width=\"700\"/>"
   ]
  },
  {
   "cell_type": "markdown",
   "metadata": {
    "slideshow": {
     "slide_type": "fragment"
    }
   },
   "source": [
    "* If we follow the pattern forward, we see that the number of calls more than doubles for each two consecutive indices.\n",
    "* That is, *c<sub>4</sub>* is more than twice *c<sub>2</sub>*, *c<sub>5</sub>* is more than twice *c<sub>3</sub>*, *c<sub>6</sub>* is more than twice *c<sub>4</sub>*, and so on.\n",
    "* Thus, *c<sub>n</sub>* > *2<sup>n/2</sup>*, which means that ``bad_fibonacci(n)`` makes a number of calls that is exponential in *n*."
   ]
  },
  {
   "cell_type": "markdown",
   "metadata": {
    "slideshow": {
     "slide_type": "slide"
    }
   },
   "source": [
    "### An Efficient Recursion for Computing Fibonacci Numbers"
   ]
  },
  {
   "cell_type": "markdown",
   "metadata": {
    "slideshow": {
     "slide_type": "-"
    }
   },
   "source": [
    "* We can compute Fn much more efficiently using a recursion in which each invocation makes only **one** recursive call.\n",
    "* We need to redefine the expectations of the function.\n",
    "* Rather than having the function return a single value, which is the *n<sup>th</sup>* Fibonacci number, we define a recursive function that returns a pair of consecutive Fibonacci numbers *(Fn,Fn−1)*."
   ]
  },
  {
   "cell_type": "code",
   "execution_count": 21,
   "metadata": {
    "slideshow": {
     "slide_type": "fragment"
    }
   },
   "outputs": [
    {
     "data": {
      "text/plain": [
       "(2, 1)"
      ]
     },
     "execution_count": 21,
     "metadata": {},
     "output_type": "execute_result"
    }
   ],
   "source": [
    "def good_fibonacci(n):\n",
    "    \"\"\"Return pair of Fibonacci numbers, F(n) and F(n-1).\"\"\"\n",
    "    if n <= 1:\n",
    "        return (n,0)\n",
    "    else:\n",
    "        (a, b) = good_fibonacci(n-1)\n",
    "        return (a+b, a)\n",
    "good_fibonacci(3)"
   ]
  },
  {
   "cell_type": "markdown",
   "metadata": {
    "slideshow": {
     "slide_type": "fragment"
    }
   },
   "source": [
    "* function good fibonacci(n) takes *O(n)* time.\n",
    "* Each recursive call to good fibonacci decreases the argument n by 1.\n",
    "* A recursion trace includes a series of *n* function calls.\n",
    "* Because the nonrecursive work for each call uses constant time, the overall computation executes in *O(n)* time."
   ]
  },
  {
   "cell_type": "markdown",
   "metadata": {
    "slideshow": {
     "slide_type": "slide"
    }
   },
   "source": [
    "### Binary Search - A Classic Recursive Algorithm"
   ]
  },
  {
   "cell_type": "markdown",
   "metadata": {
    "slideshow": {
     "slide_type": "-"
    }
   },
   "source": [
    "* This algorithm is used to efficiently locate a target value within a sorted sequence of n elements.\n",
    "\n",
    "<center>\n",
    "<img src=\"img/Qimage-7.JPG\" width=\"600\"/>"
   ]
  },
  {
   "cell_type": "markdown",
   "metadata": {
    "slideshow": {
     "slide_type": "fragment"
    }
   },
   "source": [
    "* This is known as the **_sequential search_** algorithm.\n",
    "* This algorithm runs in *O(n)* time"
   ]
  },
  {
   "cell_type": "markdown",
   "metadata": {
    "slideshow": {
     "slide_type": "slide"
    }
   },
   "source": [
    "* The algorithm maintains two parameters, ``low`` and ``high``, such that all the candidate entries have index at least ``low`` and at most ``high``.\n",
    "* Initially, ``low = 0`` and ``high = n−1``.\n",
    "* We then compare the target value to the **_median_** candidate, that is, the item ``data[mid]``\n",
    "\n",
    "<center>\n",
    "<img src=\"img/Qimage-8.JPG\" width=\"500\"/>"
   ]
  },
  {
   "cell_type": "markdown",
   "metadata": {
    "slideshow": {
     "slide_type": "fragment"
    }
   },
   "source": [
    "1. If the ``target = data[mid]``, then we have found the item we are looking for, and the search **_terminates_** successfully.\n",
    "2. If ``target < data[mid]``, then we recur on the first half of the sequence, that is, on the interval of indices from *low to mid−1*.\n",
    "3. If ``target > data[mid]``, then we recur on the second half of the sequence, that is, on the interval of indices from *mid+1 to high*."
   ]
  },
  {
   "cell_type": "markdown",
   "metadata": {
    "slideshow": {
     "slide_type": "fragment"
    }
   },
   "source": [
    "This algorithm is known as **_binary search_**."
   ]
  },
  {
   "cell_type": "code",
   "execution_count": 15,
   "metadata": {
    "slideshow": {
     "slide_type": "slide"
    }
   },
   "outputs": [],
   "source": [
    "def binary_search(data, target, low, high):\n",
    "    \"\"\"Return True if target is found in indicated portion of a Python list.\n",
    "    The search only considers the portion from data[low] to data[high] inclusive.\n",
    "    \"\"\"\n",
    "\n",
    "    if low > high:\n",
    "        return False # interval is empty; no match\n",
    "    else:\n",
    "        mid = (low + high) // 2\n",
    "        if target == data[mid]: # found a match\n",
    "            return True\n",
    "        elif target < data[mid]:\n",
    "            # recur on the portion left of the middle\n",
    "            return binary_search(data, target, low, mid - 1)\n",
    "        else:\n",
    "            # recur on the portion right of the middle\n",
    "            return binary_search(data, target, mid + 1, high)\n",
    "        "
   ]
  },
  {
   "cell_type": "code",
   "execution_count": 16,
   "metadata": {},
   "outputs": [
    {
     "data": {
      "text/plain": [
       "np.float64(16.11809565095832)"
      ]
     },
     "execution_count": 16,
     "metadata": {},
     "output_type": "execute_result"
    }
   ],
   "source": [
    "import numpy as np\n",
    "\n",
    "np.log(10000000)"
   ]
  },
  {
   "cell_type": "markdown",
   "metadata": {
    "slideshow": {
     "slide_type": "fragment"
    }
   },
   "source": [
    "* **_Binary Search_** runs in *O(logn)* time.\n",
    "* This is a significant improvement, compared to sequential search (*O(n)*)"
   ]
  },
  {
   "cell_type": "markdown",
   "metadata": {
    "slideshow": {
     "slide_type": "slide"
    }
   },
   "source": [
    "<center>\n",
    "<img src=\"img/Qimage-9.JPG\" width=\"900\"/>"
   ]
  },
  {
   "cell_type": "markdown",
   "metadata": {
    "slideshow": {
     "slide_type": "slide"
    }
   },
   "source": [
    "<center>\n",
    "    \n",
    "# 3. Exercices"
   ]
  },
  {
   "cell_type": "markdown",
   "metadata": {
    "slideshow": {
     "slide_type": "-"
    }
   },
   "source": [
    "**Ex1.**\n",
    "\n",
    "Draw the recursion trace for the computation of power(2,5), code below:"
   ]
  },
  {
   "cell_type": "code",
   "execution_count": 17,
   "metadata": {
    "slideshow": {
     "slide_type": "-"
    }
   },
   "outputs": [],
   "source": [
    "def power(x, n):\n",
    "    \"\"\"Compute the value x n for integer n.\"\"\"\n",
    "    if n == 0:\n",
    "        return 1\n",
    "    else:\n",
    "        return x * power(x, n-1)"
   ]
  },
  {
   "cell_type": "markdown",
   "metadata": {},
   "source": [
    "2,2\n",
    "\n",
    "2,2 -> 2,1 -> 2,0\n",
    "\n",
    "2,0 = 1; 2,1 = 2*1; 2,2=2 "
   ]
  },
  {
   "cell_type": "markdown",
   "metadata": {
    "slideshow": {
     "slide_type": "-"
    }
   },
   "source": [
    "**Ex2.**\n",
    "\n",
    "Write a short recursive Python function that takes a character string *s* and outputs its reverse. For example, the reverse of ``pots&pans`` would be ``snap&stop``."
   ]
  },
  {
   "cell_type": "code",
   "execution_count": 20,
   "metadata": {},
   "outputs": [
    {
     "data": {
      "text/plain": [
       "'olleh'"
      ]
     },
     "execution_count": 20,
     "metadata": {},
     "output_type": "execute_result"
    }
   ],
   "source": [
    "def reverse_string(s):\n",
    "    if len(s) == 0:\n",
    "        return s\n",
    "    else:\n",
    "        #print(s[1:])\n",
    "        #print(s[0])\n",
    "        return reverse_string(s[1:]) + s[0]\n",
    "    \n",
    "reverse_string(\"hello\")"
   ]
  },
  {
   "cell_type": "markdown",
   "metadata": {
    "slideshow": {
     "slide_type": "-"
    }
   },
   "source": [
    "**Ex3.**\n",
    "\n",
    "Give a recursive algorithm to compute the product of two positive integers, m and n, using only addition and subtraction."
   ]
  },
  {
   "cell_type": "code",
   "execution_count": 22,
   "metadata": {},
   "outputs": [
    {
     "data": {
      "text/plain": [
       "15"
      ]
     },
     "execution_count": 22,
     "metadata": {},
     "output_type": "execute_result"
    }
   ],
   "source": [
    "def product(m, n):\n",
    "    if n == 1:\n",
    "        return m\n",
    "    else:\n",
    "        return m + product(m, n-1)\n",
    "\n",
    "product(5, 3)"
   ]
  }
 ],
 "metadata": {
  "celltoolbar": "Slideshow",
  "kernelspec": {
   "display_name": "Python 3",
   "language": "python",
   "name": "python3"
  },
  "language_info": {
   "codemirror_mode": {
    "name": "ipython",
    "version": 3
   },
   "file_extension": ".py",
   "mimetype": "text/x-python",
   "name": "python",
   "nbconvert_exporter": "python",
   "pygments_lexer": "ipython3",
   "version": "3.10.11"
  }
 },
 "nbformat": 4,
 "nbformat_minor": 4
}
